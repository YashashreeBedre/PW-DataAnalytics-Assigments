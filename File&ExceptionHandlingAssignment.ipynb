{
  "nbformat": 4,
  "nbformat_minor": 0,
  "metadata": {
    "colab": {
      "provenance": []
    },
    "kernelspec": {
      "name": "python3",
      "display_name": "Python 3"
    },
    "language_info": {
      "name": "python"
    }
  },
  "cells": [
    {
      "cell_type": "code",
      "execution_count": null,
      "metadata": {
        "id": "gMtvgn3muM0g"
      },
      "outputs": [],
      "source": [
        "Theroy Questions"
      ]
    },
    {
      "cell_type": "markdown",
      "source": [
        "1. What is the difference between interpreted and compiled languages?\n",
        "- Interpreted languages execute code line-by-line (like Python), while compiled languages convert code to machine language before execution (like C++). Interpreted languages are easier to debug, but compiled ones often run faster.\n",
        "\n",
        "2. What is exception handling in Python?\n",
        "- Exception handling lets you manage errors in a clean way using try, except, and other blocks. It prevents your program from crashing unexpectedly.\n",
        "\n",
        "3. What is the purpose of the finally block in exception handling?\n",
        "- The finally block runs no matter what—whether an error occurred or not. It's often used for cleanup actions like closing files or releasing resources.\n",
        "\n",
        "4. What is logging in Python?\n",
        "- Logging is used to record messages that describe events in a program. It helps with debugging and monitoring without using print statements.\n",
        "\n",
        "5. What is the significance of the __del__ method in Python?\n",
        "- The __del__ method is a destructor that gets called when an object is deleted. It’s used to free resources, though relying on it too much isn’t recommended.\n",
        "\n",
        "6. What is the difference between import and from ... import in Python?\n",
        "- import module loads the whole module, while from module import name imports specific parts. The second one gives direct access to what you need.\n",
        "\n",
        "7. How can you handle multiple exceptions in Python?\n",
        "- You can use multiple except blocks for different exceptions or a single except with a tuple of exceptions. It helps you catch and handle various errors neatly.\n",
        "\n",
        "8. What is the purpose of the with statement when handling files in Python?\n",
        "- The with statement automatically closes the file after its block ends. It’s a safer and cleaner way to handle files without forgetting to close them.\n",
        "\n",
        "9. What is the difference between multithreading and multiprocessing?\n",
        "- Multithreading runs threads in the same process, sharing memory, while multiprocessing runs separate processes. Multiprocessing avoids the GIL and is better for CPU-heavy tasks.\n",
        "\n",
        "10. What are the advantages of using logging in a program?\n",
        "- Logging helps track what’s happening in your program over time. It’s flexible, configurable, and more professional than print statements for debugging.\n",
        "\n",
        "11. What is memory management in Python?\n",
        "- Python manages memory using automatic garbage collection, reference counting, and memory pools. It helps prevent memory leaks and keeps things efficient.\n",
        "\n",
        "12. What are the basic steps involved in exception handling in Python?\n",
        "- Use a try block to write risky code, except to catch errors, else for success, and finally for cleanup. These blocks work together to handle issues safely.\n",
        "\n",
        "13. Why is memory management important in Python?\n",
        "- Good memory management ensures programs run efficiently and don’t consume too much memory, which can slow things down or crash your app.\n",
        "\n",
        "14. What is the role of try and except in exception handling?\n",
        "- try lets you test code for errors, and except lets you handle those errors gracefully. It's a structured way to avoid crashing your program.\n",
        "\n",
        "15. How does Python's garbage collection system work?\n",
        "- Python uses reference counting and a garbage collector to remove unused objects automatically. It keeps your program from running out of memory.\n",
        "\n",
        "16. What is the purpose of the else block in exception handling?\n",
        "- The else block runs only if no exception was raised in the try. It’s useful for code that should run after successful execution.\n",
        "\n",
        "17. What are the common logging levels in Python?\n",
        "- The main logging levels are DEBUG, INFO, WARNING, ERROR, and CRITICAL. They help categorize the importance of log messages.\n",
        "\n",
        "18. What is the difference between os.fork() and multiprocessing in Python?\n",
        "- os.fork() creates a new process in Unix systems, but it's low-level. The multiprocessing module is cross-platform and easier to use for process management.\n",
        "\n",
        "19. What is the importance of closing a file in Python?\n",
        "- Closing a file frees up system resources and ensures data is written correctly. It’s essential for clean and safe file handling.\n",
        "\n",
        "20. What is the difference between file.read() and file.readline() in Python?\n",
        "- read() reads the whole file at once, while readline() reads one line at a time. Use readline() for memory efficiency in large files.\n",
        "\n",
        "21. What is the logging module in Python used for?\n",
        "- The logging module records events and errors in a program. It helps track issues and maintain logs for analysis or debugging.\n",
        "\n",
        "22. What is the os module in Python used for in file handling?\n",
        "- The os module lets you work with file paths, directories, and system operations like deleting, moving, or renaming files.\n",
        "\n",
        "23. What are the challenges associated with memory management in Python?\n",
        "- Challenges include circular references and unexpected memory retention. Manual cleanup is sometimes needed for long-running or large-scale programs.\n",
        "\n",
        "24. How do you raise an exception manually in Python?\n",
        "- Use the raise keyword with an exception type. For example: raise ValueError(\"Invalid input\").\n",
        "\n",
        "25. Why is it important to use multithreading in certain applications?\n",
        "- Multithreading is useful for I/O-bound tasks like file access or web requests. It improves performance by doing multiple things at once.\n",
        "\n"
      ],
      "metadata": {
        "id": "hR-fhLqJuW4E"
      }
    },
    {
      "cell_type": "code",
      "source": [
        "Practical questions\n"
      ],
      "metadata": {
        "id": "A8m-RkGgvei_"
      },
      "execution_count": null,
      "outputs": []
    },
    {
      "cell_type": "code",
      "source": [
        "# How can you open a file for writing in Python and write a string to it?\n",
        "with open(\"example.txt\", \"w\") as f:\n",
        "    f.write(\"Hello, world!\")"
      ],
      "metadata": {
        "id": "gkSb-iFb_tre"
      },
      "execution_count": 1,
      "outputs": []
    },
    {
      "cell_type": "code",
      "source": [
        "# Write a Python program to read the contents of a file and print each line\n",
        "with open(\"example.txt\", \"r\") as f:\n",
        "    for line in f:\n",
        "        print(line.strip())"
      ],
      "metadata": {
        "colab": {
          "base_uri": "https://localhost:8080/"
        },
        "id": "vILxQJHj_toJ",
        "outputId": "f306bbb5-5650-4478-b5d6-5ab6312ea101"
      },
      "execution_count": 2,
      "outputs": [
        {
          "output_type": "stream",
          "name": "stdout",
          "text": [
            "Hello, world!\n"
          ]
        }
      ]
    },
    {
      "cell_type": "code",
      "source": [
        "# How would you handle a case where the file doesn't exist while trying to open it for reading?\n",
        "try:\n",
        "    with open(\"nonexistent.txt\", \"r\") as f:\n",
        "        print(f.read())\n",
        "except FileNotFoundError:\n",
        "    print(\"File not found\")"
      ],
      "metadata": {
        "colab": {
          "base_uri": "https://localhost:8080/"
        },
        "id": "yiy_iIOu_tmF",
        "outputId": "8df6947b-2133-4fc9-c990-321eec008b5b"
      },
      "execution_count": 3,
      "outputs": [
        {
          "output_type": "stream",
          "name": "stdout",
          "text": [
            "File not found\n"
          ]
        }
      ]
    },
    {
      "cell_type": "code",
      "source": [
        "# Write a Python script that reads from one file and writes its content to another file\n",
        "try:\n",
        "    with open(\"source.txt\", \"x\") as src: # \"x\" mode to create if not exist\n",
        "        src.write(\"This is the content of the source file.\")\n",
        "except FileExistsError:\n",
        "    pass # Ignore if file already exists\n",
        "\n",
        "with open(\"source.txt\", \"r\") as src, open(\"dest.txt\", \"w\") as dest:\n",
        "    dest.write(src.read())"
      ],
      "metadata": {
        "id": "IH8zTMb0_tj7"
      },
      "execution_count": 5,
      "outputs": []
    },
    {
      "cell_type": "code",
      "source": [
        "# How would you catch and handle division by zero error in Python?\n",
        "try:\n",
        "    result = 10 / 0\n",
        "except ZeroDivisionError:\n",
        "    print(\"Cannot divide by zero\")"
      ],
      "metadata": {
        "colab": {
          "base_uri": "https://localhost:8080/"
        },
        "id": "QfSYy_x4_tiN",
        "outputId": "3bc734d9-97af-45b1-b39c-282c80162f73"
      },
      "execution_count": 6,
      "outputs": [
        {
          "output_type": "stream",
          "name": "stdout",
          "text": [
            "Cannot divide by zero\n"
          ]
        }
      ]
    },
    {
      "cell_type": "code",
      "source": [
        "# Write a Python program that logs an error message to a log file when a division by zero exception occurs\n",
        "import logging\n",
        "logging.basicConfig(filename=\"errors.log\", level=logging.ERROR)\n",
        "try:\n",
        "    result = 10 / 0\n",
        "except ZeroDivisionError as e:\n",
        "    logging.error(\"Division by zero occurred: %s\", e)"
      ],
      "metadata": {
        "colab": {
          "base_uri": "https://localhost:8080/"
        },
        "id": "t1vkwK2B_tf7",
        "outputId": "3d51fdbf-5d58-48b8-8730-2fe3c7c311fa"
      },
      "execution_count": 7,
      "outputs": [
        {
          "output_type": "stream",
          "name": "stderr",
          "text": [
            "ERROR:root:Division by zero occurred: division by zero\n"
          ]
        }
      ]
    },
    {
      "cell_type": "code",
      "source": [
        "# How do you log information at different levels (INFO, ERROR, WARNING) in Python using the logging module?\n",
        "import logging\n",
        "logging.basicConfig(level=logging.DEBUG)\n",
        "logging.info(\"This is an info message\")\n",
        "logging.warning(\"This is a warning\")\n",
        "logging.error(\"This is an error\")"
      ],
      "metadata": {
        "colab": {
          "base_uri": "https://localhost:8080/"
        },
        "id": "K9QEPDi-_td5",
        "outputId": "1785753b-54ce-473e-888b-bbfc35ab18fe"
      },
      "execution_count": 8,
      "outputs": [
        {
          "output_type": "stream",
          "name": "stderr",
          "text": [
            "WARNING:root:This is a warning\n",
            "ERROR:root:This is an error\n"
          ]
        }
      ]
    },
    {
      "cell_type": "code",
      "source": [
        "# Write a program to handle a file opening error using exception handling\n",
        "try:\n",
        "    with open(\"nofile.txt\", \"r\") as f:\n",
        "        print(f.read())\n",
        "except IOError:\n",
        "    print(\"Error opening file\")"
      ],
      "metadata": {
        "colab": {
          "base_uri": "https://localhost:8080/"
        },
        "id": "G9MbPuV7_tbt",
        "outputId": "20128147-0dba-45be-8256-1c32227430cc"
      },
      "execution_count": 9,
      "outputs": [
        {
          "output_type": "stream",
          "name": "stdout",
          "text": [
            "Error opening file\n"
          ]
        }
      ]
    },
    {
      "cell_type": "code",
      "source": [
        "# How can you read a file line by line and store its content in a list in Python?\n",
        "with open(\"example.txt\", \"r\") as f:\n",
        "    lines = f.readlines()\n",
        "print(lines)"
      ],
      "metadata": {
        "colab": {
          "base_uri": "https://localhost:8080/"
        },
        "id": "ep8pcuc0_tZz",
        "outputId": "1d829c6f-4297-40e1-cd92-a31c35b89078"
      },
      "execution_count": 10,
      "outputs": [
        {
          "output_type": "stream",
          "name": "stdout",
          "text": [
            "['Hello, world!']\n"
          ]
        }
      ]
    },
    {
      "cell_type": "code",
      "source": [
        "# How can you append data to an existing file in Python?\n",
        "with open(\"example.txt\", \"a\") as f:\n",
        "    f.write(\"\\nAppended line\")"
      ],
      "metadata": {
        "id": "MAJZWL1y_tXy"
      },
      "execution_count": 11,
      "outputs": []
    },
    {
      "cell_type": "code",
      "source": [
        "# Write a Python program that uses a try-except block to handle an error when attempting to access a dictionary key that doesn't exist\n",
        "my_dict = {\"a\": 1}\n",
        "try:\n",
        "    print(my_dict[\"b\"])\n",
        "except KeyError:\n",
        "    print(\"Key not found\")"
      ],
      "metadata": {
        "colab": {
          "base_uri": "https://localhost:8080/"
        },
        "id": "LQD3e-5W_tVw",
        "outputId": "db9a3a04-429c-4c11-f28a-f78a227afbd9"
      },
      "execution_count": 12,
      "outputs": [
        {
          "output_type": "stream",
          "name": "stdout",
          "text": [
            "Key not found\n"
          ]
        }
      ]
    },
    {
      "cell_type": "code",
      "source": [
        "# Write a program that demonstrates using multiple except blocks to handle different types of exceptions\n",
        "try:\n",
        "    x = int(\"abc\")\n",
        "    y = 10 / 0\n",
        "except ValueError:\n",
        "    print(\"ValueError caught\")\n",
        "except ZeroDivisionError:\n",
        "    print(\"ZeroDivisionError caught\")"
      ],
      "metadata": {
        "colab": {
          "base_uri": "https://localhost:8080/"
        },
        "id": "_-20Z6Mx_tT8",
        "outputId": "30ce8fa9-7d03-45fa-ca45-b9ec2988e11b"
      },
      "execution_count": 13,
      "outputs": [
        {
          "output_type": "stream",
          "name": "stdout",
          "text": [
            "ValueError caught\n"
          ]
        }
      ]
    },
    {
      "cell_type": "code",
      "source": [
        "# How would you check if a file exists before attempting to read it in Python?\n",
        "import os\n",
        "if os.path.exists(\"example.txt\"):\n",
        "    with open(\"example.txt\", \"r\") as f:\n",
        "        print(f.read())\n",
        "else:\n",
        "    print(\"File does not exist\")\n"
      ],
      "metadata": {
        "colab": {
          "base_uri": "https://localhost:8080/"
        },
        "id": "7FGHCkle_tSB",
        "outputId": "160cc4d5-5f06-45e2-a131-c454a0d2e819"
      },
      "execution_count": 14,
      "outputs": [
        {
          "output_type": "stream",
          "name": "stdout",
          "text": [
            "Hello, world!\n",
            "Appended line\n"
          ]
        }
      ]
    },
    {
      "cell_type": "code",
      "source": [
        "# Write a program that uses the logging module to log both informational and error messages\n",
        "import logging\n",
        "logging.basicConfig(filename=\"app.log\", level=logging.DEBUG)\n",
        "logging.info(\"Starting the program\")\n",
        "try:\n",
        "    10 / 0\n",
        "except ZeroDivisionError:\n",
        "    logging.error(\"Tried to divide by zero\")"
      ],
      "metadata": {
        "colab": {
          "base_uri": "https://localhost:8080/"
        },
        "id": "zmzQT2dF_tQE",
        "outputId": "0ade7bbc-7637-46bf-a6e0-3361dfb3fa38"
      },
      "execution_count": 15,
      "outputs": [
        {
          "output_type": "stream",
          "name": "stderr",
          "text": [
            "ERROR:root:Tried to divide by zero\n"
          ]
        }
      ]
    },
    {
      "cell_type": "code",
      "source": [
        "# Write a Python program that prints the content of a file and handles the case when the file is empty\n",
        "with open(\"example.txt\", \"r\") as f:\n",
        "    content = f.read()\n",
        "    if not content:\n",
        "        print(\"File is empty\")\n",
        "    else:\n",
        "        print(content)"
      ],
      "metadata": {
        "colab": {
          "base_uri": "https://localhost:8080/"
        },
        "id": "zMsGQsPD_tOM",
        "outputId": "47ea51b1-52a2-476b-e5e0-2d34d9937c4c"
      },
      "execution_count": 16,
      "outputs": [
        {
          "output_type": "stream",
          "name": "stdout",
          "text": [
            "Hello, world!\n",
            "Appended line\n"
          ]
        }
      ]
    },
    {
      "cell_type": "code",
      "source": [
        "#Write a program that demonstrates using multiple except blocks to handle different types of exceptionsF\n",
        "!pip install memory_profiler # Install the missing 'memory_profiler' module.\n",
        "from memory_profiler import profile\n",
        "\n",
        "@profile\n",
        "def my_func():\n",
        "    a = [i for i in range(10000)]\n",
        "    return sum(a)\n",
        "\n",
        "my_func()"
      ],
      "metadata": {
        "colab": {
          "base_uri": "https://localhost:8080/"
        },
        "id": "-2uY88Ve_tMK",
        "outputId": "d0b200ab-5f5e-453d-a874-85d51d271393"
      },
      "execution_count": 19,
      "outputs": [
        {
          "output_type": "stream",
          "name": "stdout",
          "text": [
            "Collecting memory_profiler\n",
            "  Downloading memory_profiler-0.61.0-py3-none-any.whl.metadata (20 kB)\n",
            "Requirement already satisfied: psutil in /usr/local/lib/python3.11/dist-packages (from memory_profiler) (5.9.5)\n",
            "Downloading memory_profiler-0.61.0-py3-none-any.whl (31 kB)\n",
            "Installing collected packages: memory_profiler\n",
            "Successfully installed memory_profiler-0.61.0\n"
          ]
        },
        {
          "output_type": "stream",
          "name": "stderr",
          "text": [
            "\n",
            "PYDEV DEBUGGER WARNING:\n",
            "sys.settrace() should not be used when the debugger is being used.\n",
            "This may cause the debugger to stop working correctly.\n",
            "If this is needed, please check: \n",
            "http://pydev.blogspot.com/2007/06/why-cant-pydev-debugger-work-with.html\n",
            "to see how to restore the debug tracing back correctly.\n",
            "Call Location:\n",
            "  File \"/usr/local/lib/python3.11/dist-packages/memory_profiler.py\", line 847, in enable\n",
            "    sys.settrace(self.trace_memory_usage)\n",
            "\n",
            "\n",
            "PYDEV DEBUGGER WARNING:\n",
            "sys.settrace() should not be used when the debugger is being used.\n",
            "This may cause the debugger to stop working correctly.\n",
            "If this is needed, please check: \n",
            "http://pydev.blogspot.com/2007/06/why-cant-pydev-debugger-work-with.html\n",
            "to see how to restore the debug tracing back correctly.\n",
            "Call Location:\n",
            "  File \"/usr/local/lib/python3.11/dist-packages/memory_profiler.py\", line 850, in disable\n",
            "    sys.settrace(self._original_trace_function)\n",
            "\n"
          ]
        },
        {
          "output_type": "stream",
          "name": "stdout",
          "text": [
            "ERROR: Could not find file <ipython-input-19-aa8297d9500b>\n",
            "NOTE: %mprun can only be used on functions defined in physical files, and not in the IPython environment.\n"
          ]
        },
        {
          "output_type": "execute_result",
          "data": {
            "text/plain": [
              "49995000"
            ]
          },
          "metadata": {},
          "execution_count": 19
        }
      ]
    },
    {
      "cell_type": "code",
      "source": [
        "# Write a Python program to create and write a list of numbers to a file, one number per line\n",
        "numbers = [1, 2, 3, 4, 5]\n",
        "with open(\"numbers.txt\", \"w\") as f:\n",
        "    for num in numbers:\n",
        "        f.write(f\"{num}\\n\")"
      ],
      "metadata": {
        "id": "KlTCrYxn_tKQ"
      },
      "execution_count": 18,
      "outputs": []
    },
    {
      "cell_type": "code",
      "source": [
        "# How would you implement a basic logging setup that logs to a file with rotation after 1MB?\n",
        "import logging\n",
        "from logging.handlers import RotatingFileHandler\n",
        "\n",
        "handler = RotatingFileHandler(\"rotating.log\", maxBytes=1048576, backupCount=3)\n",
        "logging.basicConfig(handlers=[handler], level=logging.INFO)\n",
        "logging.info(\"This is a log entry\")"
      ],
      "metadata": {
        "id": "CYVzwlY__tIJ"
      },
      "execution_count": 20,
      "outputs": []
    },
    {
      "cell_type": "code",
      "source": [
        "# Write a program that handles both IndexError and KeyError using a try-except block\n",
        "my_list = [1, 2]\n",
        "my_dict = {\"a\": 10}\n",
        "try:\n",
        "    print(my_list[5])\n",
        "    print(my_dict[\"b\"])\n",
        "except IndexError:\n",
        "    print(\"IndexError caught\")\n",
        "except KeyError:\n",
        "    print(\"KeyError caught\")\n"
      ],
      "metadata": {
        "colab": {
          "base_uri": "https://localhost:8080/"
        },
        "id": "_IeVs7Wl_tGJ",
        "outputId": "c6d31f3f-6fa6-4ba6-aef3-629bb6ee8843"
      },
      "execution_count": 21,
      "outputs": [
        {
          "output_type": "stream",
          "name": "stdout",
          "text": [
            "IndexError caught\n"
          ]
        }
      ]
    },
    {
      "cell_type": "code",
      "source": [
        "# How would you open a file and read its contents using a context manager in Python?\n",
        "with open(\"example.txt\", \"r\") as f:\n",
        "    print(f.read())"
      ],
      "metadata": {
        "colab": {
          "base_uri": "https://localhost:8080/"
        },
        "id": "hBfl3eqI_s7r",
        "outputId": "2d3e0d8f-9ef8-4133-e8db-1f78bb902c8f"
      },
      "execution_count": 22,
      "outputs": [
        {
          "output_type": "stream",
          "name": "stdout",
          "text": [
            "Hello, world!\n",
            "Appended line\n"
          ]
        }
      ]
    },
    {
      "cell_type": "code",
      "source": [
        "# Write a Python program that reads a file and prints the number of occurrences of a specific word\n",
        "word = \"hello\"\n",
        "with open(\"example.txt\", \"r\") as f:\n",
        "    content = f.read()\n",
        "    print(content.count(word))"
      ],
      "metadata": {
        "colab": {
          "base_uri": "https://localhost:8080/"
        },
        "id": "eYUblc7yCIIJ",
        "outputId": "558a5520-a02f-4b0d-b990-f9b7122bc5dc"
      },
      "execution_count": 23,
      "outputs": [
        {
          "output_type": "stream",
          "name": "stdout",
          "text": [
            "0\n"
          ]
        }
      ]
    },
    {
      "cell_type": "code",
      "source": [
        "# How can you check if a file is empty before attempting to read its contents?\n",
        "import os\n",
        "if os.path.getsize(\"example.txt\") == 0:\n",
        "    print(\"File is empty\")\n",
        "else:\n",
        "    with open(\"example.txt\", \"r\") as f:\n",
        "        print(f.read())"
      ],
      "metadata": {
        "colab": {
          "base_uri": "https://localhost:8080/"
        },
        "id": "UB8d83ZgCIEx",
        "outputId": "d3060a39-bc16-4411-f0a6-3aeec731eff0"
      },
      "execution_count": 24,
      "outputs": [
        {
          "output_type": "stream",
          "name": "stdout",
          "text": [
            "Hello, world!\n",
            "Appended line\n"
          ]
        }
      ]
    },
    {
      "cell_type": "code",
      "source": [
        "# Write a Python program that writes to a log file when an error occurs during file handling\n",
        "import logging\n",
        "logging.basicConfig(filename=\"file_error.log\", level=logging.ERROR)\n",
        "try:\n",
        "    with open(\"unknown.txt\", \"r\") as f:\n",
        "        print(f.read())\n",
        "except Exception as e:\n",
        "    logging.error(\"File handling error: %s\", e)"
      ],
      "metadata": {
        "colab": {
          "base_uri": "https://localhost:8080/"
        },
        "id": "B-wQyPcxCIAY",
        "outputId": "d1e4e70e-9c81-4f31-947f-5de2a0f87d5c"
      },
      "execution_count": 25,
      "outputs": [
        {
          "output_type": "stream",
          "name": "stderr",
          "text": [
            "ERROR:root:File handling error: [Errno 2] No such file or directory: 'unknown.txt'\n"
          ]
        }
      ]
    }
  ]
}