{
  "nbformat": 4,
  "nbformat_minor": 0,
  "metadata": {
    "colab": {
      "provenance": []
    },
    "kernelspec": {
      "name": "python3",
      "display_name": "Python 3"
    },
    "language_info": {
      "name": "python"
    }
  },
  "cells": [
    {
      "cell_type": "markdown",
      "source": [
        "\n",
        "Python Basic Questions\n",
        "\n",
        "1.What is Python, and why is it popular?\n",
        "- Python is a programming language that is easy to read and write. It is popular because it is simple, versatile, and widely used in web development, data science, automation, and more.\n",
        "\n",
        "\n",
        "2.What is an interpreter in Python?\n",
        "- An interpreter executes Python code line by line instead of all at once. This makes debugging easier and helps with quick testing.\n",
        "\n",
        "\n",
        "3.What are pre-defined keywords in Python?\n",
        "- Pre-defined keywords are special words that Python reserves for specific tasks.and they can not be used as variables. for eg- if, else, while, and def.\n",
        "\n",
        "\n",
        "4.Can keywords be used as variable names?\n",
        "- No, They can not as they are predefined.\n",
        "\n",
        "\n",
        "5.What is mutability in Python?\n",
        "- Mutability in Python refers to whether an object’s value can change after creation. Mutable object list can be modified.\n",
        "\n",
        "\n",
        "6.Why are lists mutable, but tuples are immutable?\n",
        "- Lists are mutable because they allow changes like adding, removing, or updating items. Tuples are immutable to keep data safe and unchanged.\n",
        "\n",
        "\n",
        "7.What is the difference between “==” and “is” operators in Python?\n",
        "- \"==\" is used to check if two values are equal or not.\n",
        "\"is\" is used to check if two variables point to the same object in memory.\n",
        "\n",
        "\n",
        "8.What are logical operators in Python?\n",
        "- and - Returns True if both conditions are true.\n",
        "- or- Returns True if at least one condition is true.\n",
        "- not-  Reverses the result, returns True if the condition is false.\n",
        "\n",
        "\n",
        "9.What is type casting in Python?\n",
        "- Type casting in Python allows you to change the type of a value.  \n",
        "- int() to convert to an integer\n",
        "- float() to convert to a float\n",
        "- str() to convert to a string  \n",
        "it is helpful when working with different data types.\n",
        "\n",
        "\n",
        "10.What is the difference between implicit and explicit type casting?\n",
        "- Implicit type casting - Python automatically converts a smaller data type to a larger one.\n",
        "- Explicit type casting - we have to manually convert one data type to another by using functions like int(), float(), or str().\n",
        "\n",
        "\n",
        "11.What is the purpose of conditional statements in Python?\n",
        "- Conditional statements in Python are used to make decisions based on conditions.\n",
        "-They allow the program to execute different code depending on whether a condition is true or false (if, elif, else).\n",
        "\n",
        "\n",
        "12.How does the elif statement work?\n",
        "- The elif statement checks another condition if the if condition is false.\n",
        "It stands for \"else if\" and allows multiple conditions to be tested in sequence.\n",
        "\n",
        "\n",
        "13.What is the difference between for and while loops?\n",
        "- For loop: Repeats a block of code a specific number of times, usually iterating over a sequence (like a list or range).\n",
        "- While loop: Repeats a block of code as long as a condition is true.\n",
        "\n",
        "\n",
        "14.Describe a scenario where a while loop is more suitable than a for loop\n",
        "- A while loop is useful when you don’t know how many times it will run.\n",
        "x = 5  \n",
        "while x > 0:  \n",
        "    print(x)  \n",
        "    x -= 1  \n",
        "print(\"Done!\")"
      ],
      "metadata": {
        "id": "aWI8fnZqO_TN"
      }
    },
    {
      "cell_type": "markdown",
      "source": [
        "Practical Questions"
      ],
      "metadata": {
        "id": "MD4aAhun5ado"
      }
    },
    {
      "cell_type": "code",
      "source": [
        "#Write a Python program to print \"Hello, World!_\n",
        "print(\"Hello, World!\")"
      ],
      "metadata": {
        "colab": {
          "base_uri": "https://localhost:8080/"
        },
        "id": "TR9Dw1b-4L1O",
        "outputId": "2ee7f777-3639-4972-dc98-703edc978dc7"
      },
      "execution_count": 1,
      "outputs": [
        {
          "output_type": "stream",
          "name": "stdout",
          "text": [
            "Hello, World!\n"
          ]
        }
      ]
    },
    {
      "cell_type": "code",
      "execution_count": 2,
      "metadata": {
        "id": "_q1R2scZO3Zw",
        "colab": {
          "base_uri": "https://localhost:8080/"
        },
        "outputId": "c8e7e29b-b094-4ade-b8a2-8fdd5961a97a"
      },
      "outputs": [
        {
          "output_type": "stream",
          "name": "stdout",
          "text": [
            "Name: Yashashree\n",
            "Age: 25\n"
          ]
        }
      ],
      "source": [
        "#Write a Python program that displays your name and age\n",
        "name = \"Yashashree\"\n",
        "age = 25\n",
        "\n",
        "print(\"Name:\", name)\n",
        "print(\"Age:\", age)"
      ]
    },
    {
      "cell_type": "code",
      "source": [
        "#Write code to print all the pre-defined keywords in Python using the keyword library\n",
        "help('keywords')"
      ],
      "metadata": {
        "colab": {
          "base_uri": "https://localhost:8080/"
        },
        "id": "1LKwDGpf4ogj",
        "outputId": "26791019-548c-4935-c1eb-766568573608"
      },
      "execution_count": 4,
      "outputs": [
        {
          "output_type": "stream",
          "name": "stdout",
          "text": [
            "\n",
            "Here is a list of the Python keywords.  Enter any keyword to get more help.\n",
            "\n",
            "False               class               from                or\n",
            "None                continue            global              pass\n",
            "True                def                 if                  raise\n",
            "and                 del                 import              return\n",
            "as                  elif                in                  try\n",
            "assert              else                is                  while\n",
            "async               except              lambda              with\n",
            "await               finally             nonlocal            yield\n",
            "break               for                 not                 \n",
            "\n"
          ]
        }
      ]
    },
    {
      "cell_type": "code",
      "source": [
        "#Write a program that checks if a given word is a Python keyword\n",
        "import keyword\n",
        "word = input(\"Enter a word: \")\n",
        "\n",
        "if keyword.iskeyword(word):\n",
        "    print(\"It's a keyword!\")\n",
        "else:\n",
        "    print(\"Not a keyword.\")"
      ],
      "metadata": {
        "colab": {
          "base_uri": "https://localhost:8080/"
        },
        "id": "3mGP2s3f47Ix",
        "outputId": "ad29f2d3-c0db-47d2-ac9d-50dc3fd658d9"
      },
      "execution_count": 6,
      "outputs": [
        {
          "output_type": "stream",
          "name": "stdout",
          "text": [
            "Enter a word: else\n",
            "It's a keyword!\n"
          ]
        }
      ]
    },
    {
      "cell_type": "code",
      "source": [
        "# Create a list and tuple in Python, and demonstrate how attempting to change an element works differently for each\n",
        "\n",
        "my_list = [1, 2, 3]\n",
        "my_tuple = (1, 2, 3)\n",
        "\n",
        "my_list[0] = 10\n",
        "print(\"new list:\", my_list)\n",
        "\n",
        "try:\n",
        "    my_tuple[0] = 10\n",
        "except TypeError:\n",
        "    print(\"Can't change tuple\")\n",
        "\n",
        "    # we can not chnage tupule we have to create a new tupule with chnages\n",
        "\n"
      ],
      "metadata": {
        "colab": {
          "base_uri": "https://localhost:8080/"
        },
        "id": "WbbKoCd846_A",
        "outputId": "13be2d5f-adf8-4d1f-d118-45d3438dd22b"
      },
      "execution_count": 7,
      "outputs": [
        {
          "output_type": "stream",
          "name": "stdout",
          "text": [
            "new list: [10, 2, 3]\n",
            "Can't change tuple\n"
          ]
        }
      ]
    },
    {
      "cell_type": "code",
      "source": [
        "#Write a function to demonstrate the behavior of mutable and immutable arguments\n",
        "\n",
        "def test(mutable_arg, immutable_arg):\n",
        "    mutable_arg.append(4)\n",
        "    immutable_arg = \"New\"\n",
        "    print(\"Mutable:\", mutable_arg)\n",
        "    print(\"Immutable:\", immutable_arg)\n",
        "\n",
        "\n",
        "my_list = [1, 2, 3]\n",
        "my_str = \"Hello\"\n",
        "\n",
        "test(my_list, my_str)\n",
        "\n",
        "print(\"Outside - Mutable:\", my_list)\n",
        "print(\"Outside - Immutable:\", my_str)"
      ],
      "metadata": {
        "colab": {
          "base_uri": "https://localhost:8080/"
        },
        "id": "n0LnTiAp46v6",
        "outputId": "678458b0-4430-4e14-fe8d-d2633854cbc1"
      },
      "execution_count": 8,
      "outputs": [
        {
          "output_type": "stream",
          "name": "stdout",
          "text": [
            "Mutable: [1, 2, 3, 4]\n",
            "Immutable: New\n",
            "Outside - Mutable: [1, 2, 3, 4]\n",
            "Outside - Immutable: Hello\n"
          ]
        }
      ]
    },
    {
      "cell_type": "code",
      "source": [
        "#Wrie a program to demonstrate the use of logical operators\n",
        "a = 5\n",
        "b = 10\n",
        "c = 20\n",
        "\n",
        "print(a < b and b > c)\n",
        "print(a > b or b > c)\n",
        "print(not a > b)\n",
        "\n"
      ],
      "metadata": {
        "colab": {
          "base_uri": "https://localhost:8080/"
        },
        "id": "wJnZwaIb46af",
        "outputId": "d7c4d8e3-3aab-412b-a689-af39f4958614"
      },
      "execution_count": 10,
      "outputs": [
        {
          "output_type": "stream",
          "name": "stdout",
          "text": [
            "False\n",
            "False\n",
            "True\n"
          ]
        }
      ]
    },
    {
      "cell_type": "code",
      "source": [
        "# Write a Python program to convert user input from string to integer, float, and boolean types\n",
        "\n",
        "user_value = input(\"Enter a value: \")\n",
        "\n",
        "int_value = int(user_value)\n",
        "float_value = float(user_value)\n",
        "bool_value = bool(user_value)\n",
        "\n",
        "print(\"Converted to integer:\", int_value)\n",
        "print(\"Converted to float:\", float_value)\n",
        "print(\"Converted to boolean:\", bool_value)\n"
      ],
      "metadata": {
        "colab": {
          "base_uri": "https://localhost:8080/"
        },
        "id": "KTZq-uiZ665d",
        "outputId": "328e9998-8cc4-4f61-fc61-199756e7dc75"
      },
      "execution_count": 12,
      "outputs": [
        {
          "output_type": "stream",
          "name": "stdout",
          "text": [
            "Enter a value: 20\n",
            "Converted to integer: 20\n",
            "Converted to float: 20.0\n",
            "Converted to boolean: True\n"
          ]
        }
      ]
    },
    {
      "cell_type": "code",
      "source": [
        "#Write code to demonstrate type casting with list elements\n",
        "\n",
        "my_list = [\"10\", \"20.5\", \"True\"]\n",
        "\n",
        "\n",
        "int_value = int(my_list[0])\n",
        "float_value = float(my_list[1])\n",
        "bool_value = bool(my_list[2])\n",
        "\n",
        "print(\"Integer value:\", int_value)\n",
        "print(\"Float value:\", float_value)\n",
        "print(\"Boolean value:\", bool_value)\n"
      ],
      "metadata": {
        "colab": {
          "base_uri": "https://localhost:8080/"
        },
        "id": "OYFc4CSM662G",
        "outputId": "b145cacd-182e-4ec0-bdb2-70b3291acf87"
      },
      "execution_count": 13,
      "outputs": [
        {
          "output_type": "stream",
          "name": "stdout",
          "text": [
            "Integer value: 10\n",
            "Float value: 20.5\n",
            "Boolean value: True\n"
          ]
        }
      ]
    },
    {
      "cell_type": "code",
      "source": [
        "#Write a program that checks if a number is positive, negative, or zero\n",
        "\n",
        "number = float(input(\"Enter a number: \"))\n",
        "\n",
        "\n",
        "if number > 0:\n",
        "    print(\"The number is positive.\")\n",
        "elif number < 0:\n",
        "    print(\"The number is negative.\")\n",
        "else:\n",
        "    print(\"The number is zero.\")\n"
      ],
      "metadata": {
        "colab": {
          "base_uri": "https://localhost:8080/"
        },
        "id": "xbGidjXB66z5",
        "outputId": "84f1d839-8db0-4ce0-e88f-0e6868e36072"
      },
      "execution_count": 15,
      "outputs": [
        {
          "output_type": "stream",
          "name": "stdout",
          "text": [
            "Enter a number: -30\n",
            "The number is negative.\n"
          ]
        }
      ]
    },
    {
      "cell_type": "code",
      "source": [
        "#Write a for loop to print numbers from 1 to 10\n",
        "for i in range(1, 11):\n",
        "    print(i)"
      ],
      "metadata": {
        "colab": {
          "base_uri": "https://localhost:8080/"
        },
        "id": "PJHWZuSP66in",
        "outputId": "42f31e5f-27af-4bbb-efdd-7fe738cd273f"
      },
      "execution_count": 16,
      "outputs": [
        {
          "output_type": "stream",
          "name": "stdout",
          "text": [
            "1\n",
            "2\n",
            "3\n",
            "4\n",
            "5\n",
            "6\n",
            "7\n",
            "8\n",
            "9\n",
            "10\n"
          ]
        }
      ]
    },
    {
      "cell_type": "code",
      "source": [
        "#Write a Python program to find the sum of all even numbers between 1 and 50\n",
        "sum_even = 0\n",
        "\n",
        "for i in range(1, 51):\n",
        "    if i % 2 == 0:\n",
        "        sum_even += i\n",
        "\n",
        "print(\"Sum of all even numbers between 1 and 50:\", sum_even)"
      ],
      "metadata": {
        "colab": {
          "base_uri": "https://localhost:8080/"
        },
        "id": "BkXscR5a8Xt0",
        "outputId": "9bfe47f5-8a43-4adc-cfb4-3c98fe75f03d"
      },
      "execution_count": 17,
      "outputs": [
        {
          "output_type": "stream",
          "name": "stdout",
          "text": [
            "Sum of all even numbers between 1 and 50: 650\n"
          ]
        }
      ]
    },
    {
      "cell_type": "code",
      "source": [
        "#Write a program to reverse a string using a while loop\n",
        "\n",
        "string = input(\"Enter a string: \")\n",
        "\n",
        "reversed_string = \"\"\n",
        "i = len(string) - 1\n",
        "\n",
        "while i >= 0:\n",
        "    reversed_string += string[i]\n",
        "    i -= 1\n",
        "\n",
        "print(\"Reversed string:\", reversed_string)"
      ],
      "metadata": {
        "colab": {
          "base_uri": "https://localhost:8080/"
        },
        "id": "V4XmGolN8XiI",
        "outputId": "312b19ea-e098-40f9-d31f-627f6b9a7697"
      },
      "execution_count": 19,
      "outputs": [
        {
          "output_type": "stream",
          "name": "stdout",
          "text": [
            "Enter a string: physics wallah\n",
            "Reversed string: hallaw scisyhp\n"
          ]
        }
      ]
    },
    {
      "cell_type": "code",
      "source": [
        "#Write a Python program to calculate the factorial of a number provided by the user using a while loop\n",
        "num = int(input(\"Enter a number: \"))\n",
        "factorial = 1\n",
        "\n",
        "while num > 0:\n",
        "    factorial *= num\n",
        "    num -= 1\n",
        "\n",
        "print(\"Factorial is\", factorial)"
      ],
      "metadata": {
        "colab": {
          "base_uri": "https://localhost:8080/"
        },
        "id": "hmN2isQl8XVx",
        "outputId": "2eeb2d1f-ea7f-4762-dcac-f1cffa6db34f"
      },
      "execution_count": 20,
      "outputs": [
        {
          "output_type": "stream",
          "name": "stdout",
          "text": [
            "Enter a number: 5\n",
            "Factorial is 120\n"
          ]
        }
      ]
    },
    {
      "cell_type": "markdown",
      "source": [],
      "metadata": {
        "id": "2K5ilzajO86G"
      }
    }
  ]
}