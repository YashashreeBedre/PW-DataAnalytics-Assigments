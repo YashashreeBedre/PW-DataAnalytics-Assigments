{
  "nbformat": 4,
  "nbformat_minor": 0,
  "metadata": {
    "colab": {
      "provenance": []
    },
    "kernelspec": {
      "name": "python3",
      "display_name": "Python 3"
    },
    "language_info": {
      "name": "python"
    }
  },
  "cells": [
    {
      "cell_type": "markdown",
      "source": [
        "Theory Questions\n"
      ],
      "metadata": {
        "id": "cCZNTd3VeoY_"
      }
    },
    {
      "cell_type": "markdown",
      "source": [
        "\n",
        "1. What are data structures, and why are they important?\n",
        "- Data structures organize and store data efficiently.  \n",
        "They help in accessing and modifying data quickly.  \n",
        "Good structures lead to better performance in code.\n",
        "\n",
        "\n",
        "2. Explain the difference between mutable and immutable data types with examples.\n",
        "- Mutable types (like lists) can be changed after creation.  \n",
        "Immutable types (like tuples, strings) can’t be changed once set.  \n",
        "Example: `list.append()` works, but `tuple.append()` doesn’t.\n",
        "\n",
        "3. What are the main differences between lists and tuples in Python?\n",
        "- Lists are mutable and slower, while tuples are immutable and faster.  \n",
        "Tuples use less memory and are good for fixed data.  \n",
        "Lists are flexible for dynamic data.\n",
        "\n",
        "4. Describe how dictionaries store data.\n",
        "- Dictionaries store data as key-value pairs.  \n",
        "They use a hash table internally for fast lookups.  \n",
        "Each key maps directly to its corresponding value.\n",
        "\n",
        "5. Why might you use a set instead of a list in Python?\n",
        "- Sets automatically remove duplicate values.  \n",
        "They’re great for membership checks—faster than lists.  \n",
        "They’re useful when order doesn’t matter.\n",
        "\n",
        "6. What is a string in Python, and how is it different from a list?\n",
        "- A string is a sequence of characters, immutable in nature.  \n",
        "A list can contain any data types and is mutable.  \n",
        "Strings can’t be changed; lists can.\n",
        "\n",
        "7. How do tuples ensure data integrity in Python?  \n",
        "- Tuples are immutable, so their data can’t be changed.  \n",
        "This ensures the contents stay constant over time.  \n",
        "Great for storing fixed, protected data.\n",
        "\n",
        "8. What is a hash table, and how does it relate to dictionaries in Python?\n",
        "- A hash table maps keys to values using a hash function.  \n",
        "Dictionaries in Python are implemented as hash tables.  \n",
        "This allows fast access to values via keys.\n",
        "\n",
        "9. Can lists contain different data types in Python?\n",
        "- Yes, Python lists can hold mixed data types.  \n",
        "For example, `[1, \"hello\", 3.5]` is valid.  \n",
        "This makes lists flexible and powerful.\n",
        "\n",
        "\n",
        "10. Explain why strings are immutable in Python.\n",
        "- Strings are immutable for performance and safety.  \n",
        "Once created, their value can’t change.  \n",
        "This allows Python to optimize memory usage.\n",
        "\n",
        "11. What advantages do dictionaries offer over lists for certain tasks?\n",
        "- Dictionaries offer fast lookups by keys.  \n",
        "They’re ideal for labeled data, like user profiles.  \n",
        "Lists require iteration to find elements.\n",
        "\n",
        "12. Describe a scenario where using a tuple would be preferable over a list.\n",
        "- Use a tuple when data shouldn’t change—like coordinates.  \n",
        "For example, storing a fixed location: `(40.7, -74.0)`.  \n",
        "It ensures data stays intact.\n",
        "\n",
        "\n",
        "13. How do sets handle duplicate values in Python?\n",
        "- Sets automatically discard duplicates.  \n",
        "Adding the same value twice keeps only one.  \n",
        "This helps maintain unique data.\n",
        "\n",
        "\n",
        "14. How does the “in” keyword work differently for lists and dictionaries?  \n",
        "- In lists, `in` checks values; in dictionaries, it checks keys.  \n",
        "Example: `5 in [1,2,5]` vs. `'name' in {'name':'Rani'}`.  \n",
        "Dictionaries offer faster lookup due to hashing.\n",
        "\n",
        "\n",
        "15. Can you modify the elements of a tuple? Explain why or why not.\n",
        "- No, tuples are immutable.  \n",
        "Once created, you can’t change their elements.  \n",
        "This protects the data from accidental changes.\n",
        "\n",
        "\n",
        "16. What is a nested dictionary, and give an example of its use case.\n",
        "- A nested dictionary has dictionaries inside dictionaries.  \n",
        "Example: `{\"user\": {\"name\": \"Yash\", \"age\": 25}}`.  \n",
        "Useful for structured, multi-level data.\n",
        "\n",
        "\n",
        "17. Describe the time complexity of accessing elements in a dictionary.  \n",
        "- Accessing dictionary elements is O(1) on average.  \n",
        "Thanks to hash tables, it's very efficient.  \n",
        "Worst-case is rare but can be O(n).\n",
        "\n",
        "\n",
        "18. In what situations are lists preferred over dictionaries?\n",
        "- Use lists when order matters or duplicates are allowed.  \n",
        "They’re simpler for sequences like a to-do list.  \n",
        "Dictionaries aren’t ideal for ordered data before Python 3.7.\n",
        "\n",
        "\n",
        "19. Why are dictionaries considered unordered, and how does that affect data retrieval?  \n",
        "- Before Python 3.7, dictionaries didn’t maintain order.  \n",
        "So you couldn’t rely on key order when iterating.  \n",
        "Now they do, but order isn’t always guaranteed logically.\n",
        "\n",
        "\n",
        "20. Explain the difference between a list and a dictionary in terms of data retrieval.\n",
        "- Lists use index positions for access (e.g., `list[0]`).  \n",
        "Dictionaries use keys (e.g., `dict[\"name\"]`).  \n",
        "Dicts are faster for key-based lookups.\n"
      ],
      "metadata": {
        "id": "0qw94_95eshk"
      }
    },
    {
      "cell_type": "code",
      "source": [
        "#1. Create a string with your name and print it\n",
        "\n",
        "name = \"Yashashree\"\n",
        "print(name)"
      ],
      "metadata": {
        "colab": {
          "base_uri": "https://localhost:8080/"
        },
        "id": "Re7Pr2h8g1_v",
        "outputId": "7942d004-5d99-40ff-e828-a291e5ef9bdf"
      },
      "execution_count": 1,
      "outputs": [
        {
          "output_type": "stream",
          "name": "stdout",
          "text": [
            "Yashashree\n"
          ]
        }
      ]
    },
    {
      "cell_type": "code",
      "source": [
        "#2. Find the length of the string \"Hello World\"\n",
        "\n",
        "s = \"Hello World\"\n",
        "print(len(s))"
      ],
      "metadata": {
        "colab": {
          "base_uri": "https://localhost:8080/"
        },
        "id": "VU1Kra-ng-fb",
        "outputId": "5d25b1da-e3b1-4dcc-fd9c-d725cde37e1e"
      },
      "execution_count": 2,
      "outputs": [
        {
          "output_type": "stream",
          "name": "stdout",
          "text": [
            "11\n"
          ]
        }
      ]
    },
    {
      "cell_type": "code",
      "source": [
        "#3. Slice the first 3 characters from the string \"Python Programming\"\n",
        "\n",
        "s = \"Python Programming\"\n",
        "print(s[:3])"
      ],
      "metadata": {
        "colab": {
          "base_uri": "https://localhost:8080/"
        },
        "id": "rxitm6g4g-cQ",
        "outputId": "d42f34b1-67f6-4184-acc0-e6e2ba5da30f"
      },
      "execution_count": 4,
      "outputs": [
        {
          "output_type": "stream",
          "name": "stdout",
          "text": [
            "Pyt\n"
          ]
        }
      ]
    },
    {
      "cell_type": "code",
      "source": [
        "#4. Convert the string \"hello\" to uppercase\n",
        "\n",
        "s = \"hello\"\n",
        "print(s.upper())"
      ],
      "metadata": {
        "colab": {
          "base_uri": "https://localhost:8080/"
        },
        "id": "pTrsIVqdg-aX",
        "outputId": "fd3e1c5f-7a4f-41a9-9263-df92787c1c4e"
      },
      "execution_count": 5,
      "outputs": [
        {
          "output_type": "stream",
          "name": "stdout",
          "text": [
            "HELLO\n"
          ]
        }
      ]
    },
    {
      "cell_type": "code",
      "source": [
        "#5. Replace the word \"apple\" with \"orange\" in the string \"I like apple\"\n",
        "\n",
        "s = \"I like apple\"\n",
        "print(s.replace(\"apple\", \"orange\"))"
      ],
      "metadata": {
        "colab": {
          "base_uri": "https://localhost:8080/"
        },
        "id": "wypyXM1Jg-Ya",
        "outputId": "7e4f4a9d-d14b-49b0-bc06-80a69ba578c2"
      },
      "execution_count": 6,
      "outputs": [
        {
          "output_type": "stream",
          "name": "stdout",
          "text": [
            "I like orange\n"
          ]
        }
      ]
    },
    {
      "cell_type": "code",
      "source": [
        "#6. Create a list with numbers 1 to 5 and print it\n",
        "\n",
        "lst = [1, 2, 3, 4, 5]\n",
        "print(lst)"
      ],
      "metadata": {
        "colab": {
          "base_uri": "https://localhost:8080/"
        },
        "id": "3mFRinVBhQAF",
        "outputId": "f8906481-50ab-4726-d20d-7b9cce935303"
      },
      "execution_count": 7,
      "outputs": [
        {
          "output_type": "stream",
          "name": "stdout",
          "text": [
            "[1, 2, 3, 4, 5]\n"
          ]
        }
      ]
    },
    {
      "cell_type": "code",
      "source": [
        "#7. Append the number 10 to the list [1, 2, 3, 4]\n",
        "\n",
        "lst = [1, 2, 3, 4]\n",
        "lst.append(10)\n",
        "print(lst)"
      ],
      "metadata": {
        "colab": {
          "base_uri": "https://localhost:8080/"
        },
        "id": "4em4yPKLg-Wi",
        "outputId": "840852ab-df04-43f7-d921-9c56668a1350"
      },
      "execution_count": 9,
      "outputs": [
        {
          "output_type": "stream",
          "name": "stdout",
          "text": [
            "[1, 2, 3, 4, 10]\n"
          ]
        }
      ]
    },
    {
      "cell_type": "code",
      "source": [
        "#8. Remove the number 3 from the list [1, 2, 3, 4, 5]\n",
        "\n",
        "lst = [1, 2, 3, 4, 5]\n",
        "lst.remove(3)\n",
        "print(lst)"
      ],
      "metadata": {
        "colab": {
          "base_uri": "https://localhost:8080/"
        },
        "id": "XF4L_MKBg-Uz",
        "outputId": "c95e1d17-df54-464e-d4df-79b1e6aeddd4"
      },
      "execution_count": 10,
      "outputs": [
        {
          "output_type": "stream",
          "name": "stdout",
          "text": [
            "[1, 2, 4, 5]\n"
          ]
        }
      ]
    },
    {
      "cell_type": "code",
      "source": [
        "#9. Access the second element in the list ['a', 'b', 'c', 'd']\n",
        "\n",
        "lst = ['a', 'b', 'c', 'd']\n",
        "print(lst[1])"
      ],
      "metadata": {
        "colab": {
          "base_uri": "https://localhost:8080/"
        },
        "id": "NfMyFueUg-Sg",
        "outputId": "4e66e713-9770-47d5-f854-152bd396001f"
      },
      "execution_count": 11,
      "outputs": [
        {
          "output_type": "stream",
          "name": "stdout",
          "text": [
            "b\n"
          ]
        }
      ]
    },
    {
      "cell_type": "code",
      "source": [
        "#10. Reverse the list [10, 20, 30, 40, 50]\n",
        "\n",
        "lst = [10, 20, 30, 40, 50]\n",
        "lst.reverse()\n",
        "print(lst)\n"
      ],
      "metadata": {
        "colab": {
          "base_uri": "https://localhost:8080/"
        },
        "id": "H_G5ltWVg-QZ",
        "outputId": "9835af42-226a-46e2-87c4-4dceaa99f82f"
      },
      "execution_count": 12,
      "outputs": [
        {
          "output_type": "stream",
          "name": "stdout",
          "text": [
            "[50, 40, 30, 20, 10]\n"
          ]
        }
      ]
    },
    {
      "cell_type": "code",
      "source": [
        "#11. Create a tuple with the elements 100, 200, 300 and print it\n",
        "\n",
        "t = (100, 200, 300)\n",
        "print(t)"
      ],
      "metadata": {
        "colab": {
          "base_uri": "https://localhost:8080/"
        },
        "id": "gp5Kyy51g-OP",
        "outputId": "04e79e92-9fd2-4311-915e-aff72dd86363"
      },
      "execution_count": 13,
      "outputs": [
        {
          "output_type": "stream",
          "name": "stdout",
          "text": [
            "(100, 200, 300)\n"
          ]
        }
      ]
    },
    {
      "cell_type": "code",
      "source": [
        "#12. Access the second-to-last element of the tuple ('red', 'green', 'blue', 'yellow')\n",
        "\n",
        "t = ('red', 'green', 'blue', 'yellow')\n",
        "print(t[-2])"
      ],
      "metadata": {
        "colab": {
          "base_uri": "https://localhost:8080/"
        },
        "id": "-4eFv49Qg-DZ",
        "outputId": "88f13bee-d427-48da-bcd2-a724032519a0"
      },
      "execution_count": 14,
      "outputs": [
        {
          "output_type": "stream",
          "name": "stdout",
          "text": [
            "blue\n"
          ]
        }
      ]
    },
    {
      "cell_type": "code",
      "source": [
        "#13. Find the minimum number in the tuple (10, 20, 5, 15)\n",
        "\n",
        "t = (10, 20, 5, 15)\n",
        "print(min(t))"
      ],
      "metadata": {
        "colab": {
          "base_uri": "https://localhost:8080/"
        },
        "id": "OfPqjnPLhfmk",
        "outputId": "6523542b-a62e-43ff-dcb0-23e3787f0169"
      },
      "execution_count": 15,
      "outputs": [
        {
          "output_type": "stream",
          "name": "stdout",
          "text": [
            "5\n"
          ]
        }
      ]
    },
    {
      "cell_type": "code",
      "source": [
        "#14. Find the index of the element \"cat\" in the tuple ('dog', 'cat', 'rabbit')\n",
        "\n",
        "t = ('dog', 'cat', 'rabbit')\n",
        "print(t.index(\"cat\"))"
      ],
      "metadata": {
        "colab": {
          "base_uri": "https://localhost:8080/"
        },
        "id": "e14ebIO1hfj8",
        "outputId": "161f178b-a238-49af-8e29-4a4ac4f025fa"
      },
      "execution_count": 16,
      "outputs": [
        {
          "output_type": "stream",
          "name": "stdout",
          "text": [
            "1\n"
          ]
        }
      ]
    },
    {
      "cell_type": "code",
      "source": [
        "#15. Create a tuple containing three different fruits and check if \"kiwi\" is in it\n",
        "\n",
        "fruits = (\"apple\", \"banana\", \"kiwi\")\n",
        "print(\"kiwi\" in fruits)\n"
      ],
      "metadata": {
        "colab": {
          "base_uri": "https://localhost:8080/"
        },
        "id": "vyNLFCokhfh8",
        "outputId": "bbd553cf-3f1c-472c-abf5-d6300d9e4c64"
      },
      "execution_count": 17,
      "outputs": [
        {
          "output_type": "stream",
          "name": "stdout",
          "text": [
            "True\n"
          ]
        }
      ]
    },
    {
      "cell_type": "code",
      "source": [
        "#16. Create a set with the elements 'a', 'b', 'c' and print it\n",
        "\n",
        "s = {'a', 'b', 'c'}\n",
        "print(s)"
      ],
      "metadata": {
        "colab": {
          "base_uri": "https://localhost:8080/"
        },
        "id": "EiAJCQHVhff8",
        "outputId": "a4fefe64-311d-4450-e56a-5000eb982aef"
      },
      "execution_count": 18,
      "outputs": [
        {
          "output_type": "stream",
          "name": "stdout",
          "text": [
            "{'c', 'b', 'a'}\n"
          ]
        }
      ]
    },
    {
      "cell_type": "code",
      "source": [
        "#17. Clear all elements from the set {1, 2, 3, 4, 5}\n",
        "\n",
        "s = {1, 2, 3, 4, 5}\n",
        "s.clear()\n",
        "print(s)"
      ],
      "metadata": {
        "colab": {
          "base_uri": "https://localhost:8080/"
        },
        "id": "p5h3WT5BhfeL",
        "outputId": "a91466e1-3d63-4f3c-a703-eac12eb5e667"
      },
      "execution_count": 19,
      "outputs": [
        {
          "output_type": "stream",
          "name": "stdout",
          "text": [
            "set()\n"
          ]
        }
      ]
    },
    {
      "cell_type": "code",
      "source": [
        "#18. Remove the element 4 from the set {1, 2, 3, 4}\n",
        "\n",
        "s = {1, 2, 3, 4}\n",
        "s.remove(4)\n",
        "print(s)"
      ],
      "metadata": {
        "colab": {
          "base_uri": "https://localhost:8080/"
        },
        "id": "cvOT5HkahfcR",
        "outputId": "e9ab2532-9735-454b-d014-308e72b92152"
      },
      "execution_count": 20,
      "outputs": [
        {
          "output_type": "stream",
          "name": "stdout",
          "text": [
            "{1, 2, 3}\n"
          ]
        }
      ]
    },
    {
      "cell_type": "code",
      "source": [
        "#19. Find the union of two sets {1, 2, 3} and {3, 4, 5}\n",
        "\n",
        "a = {1, 2, 3}\n",
        "b = {3, 4, 5}\n",
        "print(a.union(b))"
      ],
      "metadata": {
        "colab": {
          "base_uri": "https://localhost:8080/"
        },
        "id": "ZZA-qtKEhfac",
        "outputId": "0da76940-2f73-485e-8ec4-609415887d55"
      },
      "execution_count": 21,
      "outputs": [
        {
          "output_type": "stream",
          "name": "stdout",
          "text": [
            "{1, 2, 3, 4, 5}\n"
          ]
        }
      ]
    },
    {
      "cell_type": "code",
      "source": [
        "#20. Find the intersection of two sets {1, 2, 3} and {2, 3, 4}\n",
        "\n",
        "a = {1, 2, 3}\n",
        "b = {2, 3, 4}\n",
        "print(a.intersection(b))"
      ],
      "metadata": {
        "colab": {
          "base_uri": "https://localhost:8080/"
        },
        "id": "loQfav0nhfYW",
        "outputId": "a682a86c-8f70-4cfa-83c8-4ff9a9cfef00"
      },
      "execution_count": 22,
      "outputs": [
        {
          "output_type": "stream",
          "name": "stdout",
          "text": [
            "{2, 3}\n"
          ]
        }
      ]
    },
    {
      "cell_type": "code",
      "source": [
        "#21. Create a dictionary with the keys \"name\", \"age\", and \"city\", and print it\n",
        "\n",
        "d = {\"name\": \"John\", \"age\": 30, \"city\": \"New York\"}\n",
        "print(d)"
      ],
      "metadata": {
        "colab": {
          "base_uri": "https://localhost:8080/"
        },
        "id": "Bv_9xeFYhfWZ",
        "outputId": "0a6d1b16-00c5-446b-f3da-7bb18a35d681"
      },
      "execution_count": 23,
      "outputs": [
        {
          "output_type": "stream",
          "name": "stdout",
          "text": [
            "{'name': 'John', 'age': 30, 'city': 'New York'}\n"
          ]
        }
      ]
    },
    {
      "cell_type": "code",
      "source": [
        "#22. Add a new key-value pair \"country\": \"USA\" to the dictionary {'name': 'John', 'age': 25}\n",
        "\n",
        "d = {'name': 'John', 'age': 25}\n",
        "d['country'] = 'USA'\n",
        "print(d)"
      ],
      "metadata": {
        "colab": {
          "base_uri": "https://localhost:8080/"
        },
        "id": "dcaaixCFhfUh",
        "outputId": "928edaf4-e5d1-4165-ab0d-516ae1a2e39d"
      },
      "execution_count": 24,
      "outputs": [
        {
          "output_type": "stream",
          "name": "stdout",
          "text": [
            "{'name': 'John', 'age': 25, 'country': 'USA'}\n"
          ]
        }
      ]
    },
    {
      "cell_type": "code",
      "source": [
        "#23. Access the value associated with the key \"name\" in the dictionary {'name': 'Alice', 'age': 30}\n",
        "\n",
        "d = {'name': 'Alice', 'age': 30}\n",
        "print(d['name'])"
      ],
      "metadata": {
        "colab": {
          "base_uri": "https://localhost:8080/"
        },
        "id": "4cznQCxDhfSj",
        "outputId": "19c55195-27d4-484a-9f5e-272fb653d507"
      },
      "execution_count": 25,
      "outputs": [
        {
          "output_type": "stream",
          "name": "stdout",
          "text": [
            "Alice\n"
          ]
        }
      ]
    },
    {
      "cell_type": "code",
      "source": [
        "#24. Remove the key \"age\" from the dictionary {'name': 'Bob', 'age': 22, 'city': 'New York'}\n",
        "\n",
        "d = {'name': 'Bob', 'age': 22, 'city': 'New York'}\n",
        "del d['age']\n",
        "print(d)"
      ],
      "metadata": {
        "colab": {
          "base_uri": "https://localhost:8080/"
        },
        "id": "nySgTU_7hfQg",
        "outputId": "b0dfdfd4-cbb8-4085-e801-f304cbeca96b"
      },
      "execution_count": 26,
      "outputs": [
        {
          "output_type": "stream",
          "name": "stdout",
          "text": [
            "{'name': 'Bob', 'city': 'New York'}\n"
          ]
        }
      ]
    },
    {
      "cell_type": "code",
      "source": [
        "#25. Check if the key \"city\" exists in the dictionary {'name': 'Alice', 'city': 'Paris'}\n",
        "\n",
        "d = {'name': 'Alice', 'city': 'Paris'}\n",
        "print(\"city\" in d)"
      ],
      "metadata": {
        "colab": {
          "base_uri": "https://localhost:8080/"
        },
        "id": "lO0DI33ThfOd",
        "outputId": "af6ca085-c1af-4f62-b896-b244e7706d34"
      },
      "execution_count": 27,
      "outputs": [
        {
          "output_type": "stream",
          "name": "stdout",
          "text": [
            "True\n"
          ]
        }
      ]
    },
    {
      "cell_type": "code",
      "source": [
        "#26. Create a list, a tuple, and a dictionary, and print them all\n",
        "\n",
        "lst = [1, 2, 3]\n",
        "tup = (4, 5, 6)\n",
        "d = {'a': 7, 'b': 8}\n",
        "print(lst, tup, d)"
      ],
      "metadata": {
        "colab": {
          "base_uri": "https://localhost:8080/"
        },
        "id": "2euY6lNwhfMY",
        "outputId": "6cc741d4-59cd-4cbb-d94d-0639c5b29d66"
      },
      "execution_count": 28,
      "outputs": [
        {
          "output_type": "stream",
          "name": "stdout",
          "text": [
            "[1, 2, 3] (4, 5, 6) {'a': 7, 'b': 8}\n"
          ]
        }
      ]
    },
    {
      "cell_type": "code",
      "source": [
        "#27. Create a list of 5 random numbers between 1 and 100, sort it in ascending order, and print the result\n",
        "\n",
        "import random\n",
        "lst = random.sample(range(1, 101), 5)\n",
        "lst.sort()\n",
        "print(lst)"
      ],
      "metadata": {
        "colab": {
          "base_uri": "https://localhost:8080/"
        },
        "id": "cmlmDSlyhfKW",
        "outputId": "63fc496e-9390-426f-8758-6962cb0d812c"
      },
      "execution_count": 29,
      "outputs": [
        {
          "output_type": "stream",
          "name": "stdout",
          "text": [
            "[4, 46, 67, 79, 88]\n"
          ]
        }
      ]
    },
    {
      "cell_type": "code",
      "source": [
        "#28. Create a list with strings and print the element at the third index\n",
        "\n",
        "lst = [\"apple\", \"banana\", \"cherry\", \"date\", \"fig\"]\n",
        "print(lst[3])"
      ],
      "metadata": {
        "colab": {
          "base_uri": "https://localhost:8080/"
        },
        "id": "0X1uIxD2hfIO",
        "outputId": "c00ebd48-8af1-416e-d63c-2ba209a99be8"
      },
      "execution_count": 30,
      "outputs": [
        {
          "output_type": "stream",
          "name": "stdout",
          "text": [
            "date\n"
          ]
        }
      ]
    },
    {
      "cell_type": "code",
      "source": [
        "#29. Combine two dictionaries into one and print the result\n",
        "\n",
        "a = {'x': 1, 'y': 2}\n",
        "b = {'z': 3}\n",
        "a.update(b)\n",
        "print(a)"
      ],
      "metadata": {
        "colab": {
          "base_uri": "https://localhost:8080/"
        },
        "id": "DePlyGG5hfGN",
        "outputId": "9062c04f-2a9e-48bc-9a64-279d658f8d90"
      },
      "execution_count": 31,
      "outputs": [
        {
          "output_type": "stream",
          "name": "stdout",
          "text": [
            "{'x': 1, 'y': 2, 'z': 3}\n"
          ]
        }
      ]
    },
    {
      "cell_type": "code",
      "source": [
        "#30. Convert a list of strings into a set\n",
        "\n",
        "lst = [\"apple\", \"banana\", \"cherry\"]\n",
        "s = set(lst)\n",
        "print(s)"
      ],
      "metadata": {
        "colab": {
          "base_uri": "https://localhost:8080/"
        },
        "id": "w2Gj8RLehfEU",
        "outputId": "6e5b3cd0-2f22-4e2a-9032-c788ce0b1463"
      },
      "execution_count": 32,
      "outputs": [
        {
          "output_type": "stream",
          "name": "stdout",
          "text": [
            "{'banana', 'apple', 'cherry'}\n"
          ]
        }
      ]
    }
  ]
}