{
  "nbformat": 4,
  "nbformat_minor": 0,
  "metadata": {
    "colab": {
      "provenance": []
    },
    "kernelspec": {
      "name": "python3",
      "display_name": "Python 3"
    },
    "language_info": {
      "name": "python"
    }
  },
  "cells": [
    {
      "cell_type": "markdown",
      "source": [
        "Functions"
      ],
      "metadata": {
        "id": "ZMomGbth1KBV"
      }
    },
    {
      "cell_type": "markdown",
      "source": [
        "Theory Questions\n",
        "\n",
        "\n",
        "1. What is the difference between a function and a method in Python?\n",
        "\n",
        "- A function is a block of reusable code that is defined using the def keyword.\n",
        "\n",
        "- It can be called independently without being associated with an object.\n",
        "\n",
        "- It can take arguments, perform an operation, and return a result.\n",
        "- ex: def greet(name):\n",
        "    return f\"Hello, {name}!\"\n",
        "\n",
        "print(greet(\"Yashashree\"))  \n",
        "\n",
        "- A method is a function that is defined inside a class and operates on an instance of that class.\n",
        "\n",
        "- It is called using an object of the class.\n",
        "\n",
        "- Methods can modify or use the attributes of the object.\n",
        "- Ex: class Calculator:\n",
        "    def add(self, a, b):\n",
        "    return a+b\n",
        "calc = Calculator()  \n",
        "print(calc.add(5, 3))  \n",
        "\n",
        "\n",
        "2. Explain the concept of function arguments and parameters in Python.\n",
        "- Parameters are the variables listed in a function’s definition.\n",
        "\n",
        "- Arguments are the actual values passed to a function when calling it.\n",
        "- Ex:def greet(name):  \n",
        "    print(f\"Hello, {name}!\")\n",
        "\n",
        "greet(\"Yashashree\")  \n",
        "\n",
        "-name is parameter & Yashashree is an argument.\n",
        "\n",
        "3. What are the different ways to define and call a function in Python?\n",
        "- Regular One Ex:\n",
        "def add(a, b):\n",
        "    return a + b\n",
        "\n",
        "print(add(5, 3))\n",
        "\n",
        "- Default Argument Ex: def greet(name=\"Guest\"):\n",
        "    return f\"Hello, {name}!\"\n",
        "\n",
        "print(greet())  \n",
        "print(greet(\"Yash\"))\n",
        " - lambda function Ex:\n",
        " square = lambda x: x * x\n",
        "print(square(4))\n",
        "\n",
        "4. What is the purpose of the return statement in a Python function?\n",
        "- The return statement is used in a function to send the output back to the caller. Without return, the function will return None by default.\n",
        "- Ex: def add(a, b):\n",
        "    return a + b  \n",
        "\n",
        "result = add(5, 3)\n",
        "print(result)  \n",
        "\n",
        "5. What are iterators in Python and how do they differ from iterables?\n",
        "- An iterable is any object in Python that can return an iterator. It is an object that you can loop over . These objects implement the __iter__() method, which returns an iterator.\n",
        "- Ex:my_list = [1, 2, 3]\n",
        "for item in my_list:\n",
        "    print(item)\n",
        "- An iterator is an object that represents a stream of data. It is an object that allows you to iterate over a sequence of elements, one at a time, using the __next__() method. Iterators are used to control the flow of data in a sequence. Every iterator is also an iterable, but not every iterable is an iterator.\n",
        "-Ex:my_list = [1, 2, 3]\n",
        "my_iterator = iter(my_list)\n",
        "print(next(my_iterator))  \n",
        "print(next(my_iterator))  \n",
        "print(next(my_iterator))  \n",
        "\n",
        "6. Explain the concept of generators in Python and how they are defined.\n",
        "- A generator is a special type of iterator that allows you to iterate over a sequence of values, but instead of returning all the values at once, it yields them one at a time as needed. This makes generators memory efficient because they generate values on-the-fly and don’t require storing the entire sequence in memory.\n",
        "\n",
        "- Generators are defined using the yield keyword inside a function. When yield is encountered, the state of the function is saved, and the value is returned to the caller. The function can later be resumed from where it left off, continuing the execution after the yield.\n",
        "- Ex:# Generator function to generate squares of numbers\n",
        "def generate_squares(n):\n",
        "    for i in range(n):\n",
        "       yield i ** 2\n",
        "square_gen = generate_squares(5)\n",
        "\n",
        "for square in square_gen:\n",
        "    print(square)\n",
        "\n",
        "7. What are the advantages of using generators over regular functions?\n",
        "-  Generators only produce one value at a time, saving memory.\n",
        "- They compute values when needed, so you don’t wait for everything at once.\n",
        "- Good for large or infinite data, as they don’t store everything in memory.\n",
        "\n",
        "8. What is a lambda function in Python and when is it typically used?\n",
        "- A lambda function is a small, anonymous function defined with the lambda keyword. It can have any number of arguments but only one expression. The result of the expression is automatically returned.\n",
        "- Used for small, simple functions that don’t need a full function definition.\n",
        "- Ex:numbers = [1, 2, 3, 4]\n",
        "squared = list(map(lambda x: x ** 2, numbers))\n",
        "print(squared)  \n",
        "\n",
        "9. Explain the purpose and usage of the `map()` function in Python?\n",
        "- The map() function in Python is used to apply a given function to each item in an iterable (such as a list, tuple, or string) and return an iterator that produces the results.\n",
        "- Ex: numbers = [1, 2, 3, 4]\n",
        "\n",
        "def square(x):\n",
        "    return x ** 2\n",
        "\n",
        "squared_numbers = map(square, numbers)\n",
        "\n",
        "print(list(squared_numbers))  # Output: [1, 4, 9, 16]\n",
        "\n",
        "10. What is the difference between `map()`, `reduce()`, and `filter()` functions in Python?\n",
        "- Map : Apply a given function to each item in an iterable and return an iterator that yields the transformed values.\n",
        "- Ex: numbers = [1, 2, 3]\n",
        "squared = map(lambda x: x**2, numbers)\n",
        "print(list(squared))  # Output: [1, 4, 9]\n",
        "- Reduce : t's used when you want to reduce the iterable to one value.\n",
        "- Ex: from functools import reduce\n",
        "numbers = [1, 2, 3, 4]\n",
        "product = reduce(lambda x, y: x * y, numbers)\n",
        "print(product)  \n",
        "-Filter : It's used when you want to filter elements from an iterable based on some criteria.\n",
        "- Ex: numbers = [1, 2, 3, 4, 5]\n",
        "even_numbers = filter(lambda x: x % 2 == 0, numbers)\n",
        "print(list(even_numbers))  \n",
        "\n",
        "\n",
        "11. Using pen & Paper write the internal mechanism for sum operation using  reduce function on this givenlist:[47,11,42,13]\n",
        "- [link text](https://drive.google.com/file/d/1LEePITl9fXPoC_2-TzEHbzgBaaLpF-pc/view?usp=drive_link)\n",
        "\n",
        "\n",
        "\n",
        "\n",
        "\n",
        "\n",
        "\n"
      ],
      "metadata": {
        "id": "Sskmxan52dV1"
      }
    },
    {
      "cell_type": "markdown",
      "source": [
        "Practical Questions"
      ],
      "metadata": {
        "id": "1pMJFIQC7REB"
      }
    },
    {
      "cell_type": "code",
      "source": [
        "# Write a Python function that takes a list of numbers as input and returns the sum of all even numbers in the list\n",
        "def sum_of_evens(numbers):\n",
        "    return sum(num for num in numbers if num % 2 == 0)\n",
        "\n",
        "num_list = [1, 2, 3, 4, 5, 6]\n",
        "result = sum_of_evens(num_list)\n",
        "print(result)\n"
      ],
      "metadata": {
        "colab": {
          "base_uri": "https://localhost:8080/"
        },
        "id": "5oaZnB5i7PMH",
        "outputId": "a30db9a6-bae7-42f9-dcaf-e1e71962a115"
      },
      "execution_count": null,
      "outputs": [
        {
          "output_type": "stream",
          "name": "stdout",
          "text": [
            "12\n"
          ]
        }
      ]
    },
    {
      "cell_type": "code",
      "execution_count": null,
      "metadata": {
        "colab": {
          "base_uri": "https://localhost:8080/"
        },
        "id": "qLY_nYHo1Eo5",
        "outputId": "bc3de933-2f9b-4e5c-d184-2da4871132ef"
      },
      "outputs": [
        {
          "output_type": "stream",
          "name": "stdout",
          "text": [
            "olleh\n"
          ]
        }
      ],
      "source": [
        "#Create a Python function that accepts a string and returns the reverse of that string.\n",
        "def reverse_string(text):\n",
        "    return text[::-1]\n",
        "\n",
        "result = reverse_string(\"hello\")\n",
        "print(result)\n"
      ]
    },
    {
      "cell_type": "code",
      "source": [
        "#Implement a Python function that takes a list of integers and returns a new list containing the squares of each number.\n",
        "def square_numbers(numbers):\n",
        "    return [num ** 2 for num in numbers]\n",
        "\n",
        "num_list = [1, 2, 3, 4, 5]\n",
        "result = square_numbers(num_list)\n",
        "print(result)"
      ],
      "metadata": {
        "colab": {
          "base_uri": "https://localhost:8080/"
        },
        "id": "ojsaN21l73ZJ",
        "outputId": "d9941b67-6311-4a11-b8f3-3cf42a93802f"
      },
      "execution_count": null,
      "outputs": [
        {
          "output_type": "stream",
          "name": "stdout",
          "text": [
            "[1, 4, 9, 16, 25]\n"
          ]
        }
      ]
    },
    {
      "cell_type": "code",
      "source": [
        "#Write a Python function that checks if a given number is prime or not from 1 to 200\n",
        "def is_prime(num):\n",
        "    if num <= 1:\n",
        "        return False\n",
        "    for i in range(2, num):\n",
        "        if num % i == 0:\n",
        "            return False\n",
        "    return True\n",
        "\n",
        "for i in range(1, 201):\n",
        "    if is_prime(i):\n",
        "        print(i, \"is prime\")\n"
      ],
      "metadata": {
        "colab": {
          "base_uri": "https://localhost:8080/"
        },
        "id": "2bZu5GhZ8CO2",
        "outputId": "61b95aa3-5104-49ce-e0fa-4c0d2ecbcf01"
      },
      "execution_count": null,
      "outputs": [
        {
          "output_type": "stream",
          "name": "stdout",
          "text": [
            "2 is prime\n",
            "3 is prime\n",
            "5 is prime\n",
            "7 is prime\n",
            "11 is prime\n",
            "13 is prime\n",
            "17 is prime\n",
            "19 is prime\n",
            "23 is prime\n",
            "29 is prime\n",
            "31 is prime\n",
            "37 is prime\n",
            "41 is prime\n",
            "43 is prime\n",
            "47 is prime\n",
            "53 is prime\n",
            "59 is prime\n",
            "61 is prime\n",
            "67 is prime\n",
            "71 is prime\n",
            "73 is prime\n",
            "79 is prime\n",
            "83 is prime\n",
            "89 is prime\n",
            "97 is prime\n",
            "101 is prime\n",
            "103 is prime\n",
            "107 is prime\n",
            "109 is prime\n",
            "113 is prime\n",
            "127 is prime\n",
            "131 is prime\n",
            "137 is prime\n",
            "139 is prime\n",
            "149 is prime\n",
            "151 is prime\n",
            "157 is prime\n",
            "163 is prime\n",
            "167 is prime\n",
            "173 is prime\n",
            "179 is prime\n",
            "181 is prime\n",
            "191 is prime\n",
            "193 is prime\n",
            "197 is prime\n",
            "199 is prime\n"
          ]
        }
      ]
    },
    {
      "cell_type": "code",
      "source": [
        "# Create an iterator class in Python that generates the Fibonacci sequence up to a specified number of terms.\n",
        "class Fibonacci:\n",
        "    def __init__(self, n):\n",
        "        self.n = n\n",
        "        self.a, self.b = 0, 1\n",
        "        self.count = 0\n",
        "\n",
        "    def __iter__(self):\n",
        "        return self\n",
        "\n",
        "    def __next__(self):\n",
        "        if self.count >= self.n:\n",
        "            raise StopIteration\n",
        "        self.count += 1\n",
        "        self.a, self.b = self.b, self.a + self.b\n",
        "        return self.a\n",
        "\n",
        "fib = Fibonacci(10)\n",
        "for number in fib:\n",
        "    print(number)\n"
      ],
      "metadata": {
        "colab": {
          "base_uri": "https://localhost:8080/"
        },
        "id": "xxGape8z8RNL",
        "outputId": "d33c6049-d0f3-425d-8ca3-5446fde0567c"
      },
      "execution_count": null,
      "outputs": [
        {
          "output_type": "stream",
          "name": "stdout",
          "text": [
            "1\n",
            "1\n",
            "2\n",
            "3\n",
            "5\n",
            "8\n",
            "13\n",
            "21\n",
            "34\n",
            "55\n"
          ]
        }
      ]
    },
    {
      "cell_type": "code",
      "source": [
        "#Write a generator function in Python that yields the powers of 2 up to a given exponent.\n",
        "def powers_of_two(exponent):\n",
        "    for i in range(exponent + 1):\n",
        "        yield 2 ** i\n",
        "\n",
        "for power in powers_of_two(5):\n",
        "    print(power)\n"
      ],
      "metadata": {
        "colab": {
          "base_uri": "https://localhost:8080/"
        },
        "id": "3hYfQ6Dk84C6",
        "outputId": "03361f28-c384-489f-cd3f-f141b3fbd11e"
      },
      "execution_count": null,
      "outputs": [
        {
          "output_type": "stream",
          "name": "stdout",
          "text": [
            "1\n",
            "2\n",
            "4\n",
            "8\n",
            "16\n",
            "32\n"
          ]
        }
      ]
    },
    {
      "cell_type": "code",
      "source": [
        "# Implement a generator function that reads a file line by line and yields each line as a string.\n",
        "def read_file_line_by_line(file_path =\"C:\\\\Users\\\\YashashreeBedre\\\\OneDrive\\\\Desktop\\\\Hey this is Yashashree.txt\"):\n",
        "    with open(file_path, 'r', encoding='utf-8') as file:\n",
        "        for line in file:\n",
        "            yield line.rstrip('\\n')\n"
      ],
      "metadata": {
        "id": "JbYG1hnMZJdX"
      },
      "execution_count": 6,
      "outputs": []
    },
    {
      "cell_type": "code",
      "source": [
        "#Use a lambda function in Python to sort a list of tuples based on the second element of each tuple\n",
        "\n",
        "tuple_list = [(1, 3), (2, 2), (3, 1), (4, 5)]\n",
        "\n",
        "sorted_list = sorted(tuple_list, key=lambda x: x[1])\n",
        "\n",
        "print(sorted_list)\n",
        "\n"
      ],
      "metadata": {
        "colab": {
          "base_uri": "https://localhost:8080/"
        },
        "id": "-hbX5yNs9vLg",
        "outputId": "d37d5277-f541-4e59-fed6-88218ec87aa4"
      },
      "execution_count": null,
      "outputs": [
        {
          "output_type": "stream",
          "name": "stdout",
          "text": [
            "[(3, 1), (2, 2), (1, 3), (4, 5)]\n"
          ]
        }
      ]
    },
    {
      "cell_type": "code",
      "source": [
        "#Write a Python program that uses `map()` to convert a list of temperatures from Celsius to Fahrenheit.\n",
        "\n",
        "celsius_temps = [0, 20, 25, 30, 35]\n",
        "\n",
        "def celsius_to_fahrenheit(celsius):\n",
        "    return (celsius * 9/5) + 32\n",
        "\n",
        "fahrenheit_temps = list(map(celsius_to_fahrenheit, celsius_temps))\n",
        "\n",
        "print(fahrenheit_temps)\n",
        "\n"
      ],
      "metadata": {
        "colab": {
          "base_uri": "https://localhost:8080/"
        },
        "id": "qDfBgUJi91Ru",
        "outputId": "490e4d52-a3ad-4706-f9c2-261e7b18b9c0"
      },
      "execution_count": null,
      "outputs": [
        {
          "output_type": "stream",
          "name": "stdout",
          "text": [
            "[32.0, 68.0, 77.0, 86.0, 95.0]\n"
          ]
        }
      ]
    },
    {
      "cell_type": "code",
      "source": [
        "# Create a Python program that uses `filter()` to remove all the vowels from a given string.\n",
        "\n",
        "def is_not_vowel(char):\n",
        "    return char.lower() not in 'aeiou'\n",
        "\n",
        "input_string = \"Hello World!\"\n",
        "\n",
        "filtered_string = ''.join(filter(is_not_vowel, input_string))\n",
        "\n",
        "print(filtered_string)\n"
      ],
      "metadata": {
        "colab": {
          "base_uri": "https://localhost:8080/"
        },
        "id": "p9nLuMWi97eO",
        "outputId": "51f1bb2c-4a28-49ea-bb95-1d3e6546fa08"
      },
      "execution_count": null,
      "outputs": [
        {
          "output_type": "stream",
          "name": "stdout",
          "text": [
            "Hll Wrld!\n"
          ]
        }
      ]
    },
    {
      "cell_type": "code",
      "source": [
        "# 1.Imagine an accounting routine used in a book shop. It works on a list with sublists, which look like this:\n",
        "'''Write a Python program, which returns a list with 2-tuples. Each tuple consists of the order number and the\n",
        "product of the price per item and the quantity. The product should be increased by 10,- € if the value of the\n",
        "order is smaller than 100,00 €.# Write a Python program using lambda and map.'''\n",
        "\n",
        "# data as a list of tuples: (order_number, quantity, price_per_item)\n",
        "orders = [\n",
        "    (34587, 4, 40.95),\n",
        "    (98762, 5, 56.80),\n",
        "    (77226, 3, 32.95),\n",
        "    (88112, 3, 24.99)\n",
        "]\n",
        "\n",
        "result = list(map(\n",
        "    lambda order: (order[0], order[1] * order[2] + (10 if order[1] * order[2] < 100 else 0)),\n",
        "    orders\n",
        "))\n",
        "\n",
        "print(\"Order Number | Total Price (after adjustment)\")\n",
        "print(\"-----------------------------------------\")\n",
        "for order_num, total in result:\n",
        "    print(f\"{order_num}        | {total:.2f}€\")\n",
        "\n",
        "\n"
      ],
      "metadata": {
        "id": "iBfenDUe_p7D",
        "colab": {
          "base_uri": "https://localhost:8080/"
        },
        "outputId": "ab642950-6b11-4422-f681-a6f14b020bc7"
      },
      "execution_count": 8,
      "outputs": [
        {
          "output_type": "stream",
          "name": "stdout",
          "text": [
            "Order Number | Total Price (after adjustment)\n",
            "-----------------------------------------\n",
            "34587        | 163.80€\n",
            "98762        | 284.00€\n",
            "77226        | 108.85€\n",
            "88112        | 84.97€\n"
          ]
        }
      ]
    }
  ]
}